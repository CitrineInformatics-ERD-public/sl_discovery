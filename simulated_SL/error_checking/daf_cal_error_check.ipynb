{
 "cells": [
  {
   "cell_type": "code",
   "execution_count": 21,
   "metadata": {},
   "outputs": [],
   "source": [
    "import pandas as pd\n",
    "import numpy as np\n",
    "\n",
    "df = pd.read_csv('sl_results/10Aug21/1/matbench_expt_gap/matbench_expt_gap-1939-215-90-100.csv')\n",
    "df = pd.read_csv('sl_results/10Aug21/1/matbench_expt_gap/matbench_expt_gap-1939-215-0-10.csv')\n",
    "\n",
    "# df = pd.read_csv('/Users/chrisborg/Downloads/matbenchbandgap-90-100-percentile.csv')\n"
   ]
  },
  {
   "cell_type": "code",
   "execution_count": 24,
   "metadata": {},
   "outputs": [],
   "source": [
    "import sys\n",
    "sys.path.append('..')\n",
    "\n",
    "def calculate_DAF(df, n_targets=1):\n",
    "    '''\n",
    "    Calculates and returns Discovery Acceleration Factor (the avg number of SL iterations required to id N compounds in target range)\n",
    "    Args:\n",
    "        df (pd.DataFrame): sl_workflow dataframe\n",
    "        n_targets (int):  adjustable parameter for number of targets researcher wants to find\n",
    "    Return:\n",
    "        itt_avg_dict (dict): Dict with avg of n_targets_found\n",
    "    '''\n",
    "    \n",
    "    DAF = {'EV':[], 'EI':[], 'MU':[], 'Random':[]}\n",
    "\n",
    "    for g in df.groupby(['acquisition_function', 'trial']):\n",
    "\n",
    "        # af = acquisition function\n",
    "        af = g[0][0]\n",
    "\n",
    "        # if desired targets were found\n",
    "        if n_targets in g[1]['n_targets_found'].values:\n",
    "\n",
    "            # get the first iteration where n_targets_found == desired number of targets\n",
    "            iterations_to_n_targets = g[1][g[1]['n_targets_found']==n_targets]['iteration'].values[0]\n",
    "            # append to dict\n",
    "            DAF[af].append(iterations_to_n_targets)\n",
    "\n",
    "    \n",
    "    # compute average and stdev\n",
    "    DAF_avg = {key: (round(np.average(val), 1), round(np.std(val), 1)) for key, val in DAF.items()}\n",
    "    print(DAF_avg)\n",
    "    # normalize by random search (for a given decile, it should take 10 iterations on average to id a single target)\n",
    "    n_iter_random = int(n_targets*10)\n",
    "    \n",
    "    # to calc norm_std we take the percent error (std/avg) and multiple it by the normalized avg val\n",
    "    DAF_norm = {}\n",
    "    for key, val in DAF_avg.items():\n",
    "        avg = val[0]\n",
    "        std = val[1]\n",
    "        norm_avg = n_iter_random/avg\n",
    "        percent_error = std/avg\n",
    "        norm_std = norm_avg*percent_error\n",
    "        DAF_norm[key] = (round(norm_avg,2), round(norm_std,2))\n",
    "\n",
    "    return DAF_norm"
   ]
  },
  {
   "cell_type": "code",
   "execution_count": 25,
   "metadata": {},
   "outputs": [
    {
     "name": "stdout",
     "output_type": "stream",
     "text": [
      "{'EV': (5.3, 7.3), 'EI': (2.7, 2.4), 'MU': (41.2, 23.9), 'Random': (9.8, 8.4)}\n",
      "{'EV': (1.89, 2.6), 'EI': (3.7, 3.29), 'MU': (0.24, 0.14), 'Random': (1.02, 0.87)}\n",
      "{'EV': (8.7, 8.6), 'EI': (6.0, 3.5), 'MU': (67.3, 25.2), 'Random': (29.8, 14.0)}\n",
      "{'EV': (3.45, 3.41), 'EI': (5.0, 2.92), 'MU': (0.45, 0.17), 'Random': (1.01, 0.47)}\n",
      "{'EV': (12.3, 10.4), 'EI': (8.8, 3.9), 'MU': (86.6, 14.3), 'Random': (49.4, 17.0)}\n",
      "{'EV': (4.07, 3.44), 'EI': (5.68, 2.52), 'MU': (0.58, 0.1), 'Random': (1.01, 0.35)}\n"
     ]
    }
   ],
   "source": [
    "print(calculate_DAF(df, n_targets=1))\n",
    "print(calculate_DAF(df, n_targets=3))\n",
    "print(calculate_DAF(df, n_targets=5))"
   ]
  },
  {
   "cell_type": "code",
   "execution_count": null,
   "metadata": {},
   "outputs": [],
   "source": []
  }
 ],
 "metadata": {
  "kernelspec": {
   "display_name": "Python 3.10.4 ('sl_discovery')",
   "language": "python",
   "name": "python3"
  },
  "language_info": {
   "codemirror_mode": {
    "name": "ipython",
    "version": 3
   },
   "file_extension": ".py",
   "mimetype": "text/x-python",
   "name": "python",
   "nbconvert_exporter": "python",
   "pygments_lexer": "ipython3",
   "version": "3.10.4"
  },
  "orig_nbformat": 4,
  "vscode": {
   "interpreter": {
    "hash": "7e32a89b15589ef4ebe1618005908fb25c8f79e76724d97aa8b327347d44fde8"
   }
  }
 },
 "nbformat": 4,
 "nbformat_minor": 2
}
