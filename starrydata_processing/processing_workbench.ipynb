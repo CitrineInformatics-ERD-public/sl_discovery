{
 "cells": [
  {
   "cell_type": "code",
   "execution_count": 1,
   "metadata": {},
   "outputs": [],
   "source": [
    "%load_ext autoreload\n",
    "%autoreload 2"
   ]
  },
  {
   "cell_type": "code",
   "execution_count": 4,
   "metadata": {},
   "outputs": [
    {
     "name": "stdout",
     "output_type": "stream",
     "text": [
      "Begin processing: 1666286414.499247\n",
      "{'Seebeck coefficient': {'min': -0.005, 'max': 0.005}, 'Electrical conductivity': {'min': 0, 'max': 10000000}, 'Thermal conductivity': {'min': 0, 'max': 100}, 'Power factor': {'min': 0, 'max': 10}, 'ZT': {'min': 0, 'max': 3}, 'Temperature': {'min': 200, 'max': 1200}, 'sigma_E_0': {'min': 0, 'max': 10000000}}\n",
      "Total samples: 26098\n"
     ]
    },
    {
     "name": "stderr",
     "output_type": "stream",
     "text": [
      "/Users/chrisborg/opt/anaconda3/envs/sl_discovery/lib/python3.10/site-packages/pymatgen/core/periodic_table.py:210: UserWarning: No electronegativity for He. Setting to NaN. This has no physical meaning, and is mainly done to avoid errors caused by the code expecting a float.\n",
      "  warnings.warn(\n"
     ]
    },
    {
     "name": "stdout",
     "output_type": "stream",
     "text": [
      "Samples with valid composition: 22406\n",
      "Applying filters...\n",
      "INPUT DF: 22406\n",
      "Filtered Temperature DF: 22406\n",
      "INPUT DF: 22406\n",
      "Filtered Seebeck coefficient DF: 22322\n",
      "INPUT DF: 22322\n",
      "Filtered Electrical conductivity DF: 22043\n",
      "INPUT DF: 22043\n",
      "Filtered Thermal conductivity DF: 21815\n",
      "INPUT DF: 21815\n",
      "Filtered Power factor DF: 21502\n",
      "INPUT DF: 21502\n",
      "Filtered ZT DF: 21067\n",
      "INPUT DF: 21067\n",
      "Filtered sigma_E_0 DF: 21030\n",
      "Filtered DF: 21030\n",
      "TOTAL RUN TIME: 0m 4.7s\n"
     ]
    }
   ],
   "source": [
    "import time\n",
    "from processing_functions.starrydata_queries import query_sample_ids, download_samples\n",
    "from processing_functions.convert_to_df import convert_to_df\n",
    "from processing_functions.parse_rawdata import parse_rawdata\n",
    "from processing_functions.calculate_props import calculate_props\n",
    "from processing_functions.apply_filters import apply_filters\n",
    "from processing_functions.parse_sampleinfo import parse_sampleinfo\n",
    "from processing_functions.add_composition_class import classify_by_composition\n",
    "\n",
    "start_time = time.time()\n",
    "print(\"Begin processing: {}\".format(start_time))\n",
    "\n",
    "data_dir = 'data/'\n",
    "\n",
    "# These data files are either user-specified (ELEMENTS, PROPERTY_FILTERS) or generated from user-specific info (SAMPLE_IDS)\n",
    "sample_ids_file_path = 'processing_functions/SAMPLE_IDS.json'\n",
    "elements_file_path = 'processing_functions/ELEMENTS.json'\n",
    "prop_filters_file_path = 'processing_functions/PROPERTY_FILTERS.json'\n",
    "\n",
    "# Output of operations on rawdata\n",
    "int_data_file_path = data_dir+'rawdata_interpolated.csv'\n",
    "calc_data_file_path = data_dir+'rawdata_interpolated_calc.csv'\n",
    "filtered_data_file_path = data_dir+'rawdata_interpolated_filtered.csv'\n",
    "wc_data_file_path = data_dir+'rawdata_interpolated_filtered_with_classifiers.csv'\n",
    "\n",
    "# ############ download rawdata ###########\n",
    "# # #1 - Pings API for new sample ids and updates SAMPLE_IDS.json\n",
    "# query_sample_ids(sample_ids_file_path, elements_file_path)\n",
    "\n",
    "# # #2 - Downloads sample json files to /samples/ dir based on ids in SAMPLE_IDS.json this will take time if you don't have any /samples/ downloaded on your local drive.\n",
    "# download_samples(sample_ids_file_path, data_dir)\n",
    "\n",
    "# # #3 - Combines sample jsons into dataframes (as speficied here: https://starrydata.wordpress.com/2018/09/14/use-datafiles-in-python/)\n",
    "# convert_to_df(sample_ids_file_path, data_dir)\n",
    "\n",
    "# Data queried August 9th 2021\n",
    "\n",
    "# # ########### post-processing ###########\n",
    "# # #4 - Filters rawdata on desired properties and temp range. Interpolates values for props at specified temperatures\n",
    "# parse_rawdata(data_dir)\n",
    "\n",
    "#5 - Calculates properties from extracted data. Calculated values are noted by extracted_NaN column. If prop has a value and that prop is in extracted_NaN, then it was not extracted / was calculated.\n",
    "# calculate_props(int_data_file_path, calc_data_file_path)\n",
    "\n",
    "# #6 - Applies filters based on props and ranges specified in PROPERTY_FILTERS.json. Also computes a reduced_composition for validating extracted compositions.\n",
    "apply_filters(calc_data_file_path, filtered_data_file_path, prop_filters_file_path)\n",
    "\n",
    "# 7 - Composition-based classifers for composition-property exploration\n",
    "# classify_by_composition(filtered_data_file_path, wc_data_file_path, 'reduced_composition')\n",
    "\n",
    "# 8 - Parse sample metadata\n",
    "# parse_sampleinfo(wc_data_file_path, wc_data_file_path)\n",
    "\n",
    "end_time = time.time()\n",
    "tot_s = end_time - start_time\n",
    "print('TOTAL RUN TIME: {}m {:.1f}s'.format(int(tot_s/60), tot_s%60))"
   ]
  }
 ],
 "metadata": {
  "kernelspec": {
   "display_name": "Python 3.10.4 ('sl_discovery')",
   "language": "python",
   "name": "python3"
  },
  "language_info": {
   "codemirror_mode": {
    "name": "ipython",
    "version": 3
   },
   "file_extension": ".py",
   "mimetype": "text/x-python",
   "name": "python",
   "nbconvert_exporter": "python",
   "pygments_lexer": "ipython3",
   "version": "3.10.4"
  },
  "vscode": {
   "interpreter": {
    "hash": "7e32a89b15589ef4ebe1618005908fb25c8f79e76724d97aa8b327347d44fde8"
   }
  }
 },
 "nbformat": 4,
 "nbformat_minor": 4
}
